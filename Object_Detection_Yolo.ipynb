{
  "nbformat": 4,
  "nbformat_minor": 0,
  "metadata": {
    "colab": {
      "provenance": [],
      "authorship_tag": "ABX9TyPp+aBlPTmVHt93ul6JC6eT",
      "include_colab_link": true
    },
    "kernelspec": {
      "name": "python3",
      "display_name": "Python 3"
    },
    "language_info": {
      "name": "python"
    }
  },
  "cells": [
    {
      "cell_type": "markdown",
      "metadata": {
        "id": "view-in-github",
        "colab_type": "text"
      },
      "source": [
        "<a href=\"https://colab.research.google.com/github/ridwanyah24/My_fiinal_year_project/blob/main/Object_Detection_Yolo.ipynb\" target=\"_parent\"><img src=\"https://colab.research.google.com/assets/colab-badge.svg\" alt=\"Open In Colab\"/></a>"
      ]
    },
    {
      "cell_type": "code",
      "source": [
        "import numpy as np\n",
        "import cv2\n",
        "\n",
        "class ObjectDetection:\n",
        "  def __init__(self, weights_path=\"yolov4.weights\", cfg_path=\"yolov4.cfg\"):\n",
        "    print(\"Loading Object\")\n",
        "    print(\"Running openCv DNN with YoloV4\")\n",
        "\n",
        "    self.nmsThreshold = 0.4\n",
        "    self.confThreshold = 0.5\n",
        "    self.image_size = 608\n",
        "\n",
        "    #Load Network\n",
        "    net = cv2.dnn.readNet(weights_path, cfg_path)\n",
        "    net.setPreferableBackend(cv2.dnn.DNN_BACKEND_CUDA)\n",
        "    net.setPreferableTarget(cv2.dnn.DNN_TARGET_CUDA)\n",
        "    self.model = cv2.dnn_DetectionModel(net)\n",
        "\n",
        "    self.classes = []\n",
        "    self.load_class_names()\n",
        "    self.colors = np.random.uniform(0, 255, size=(80, 3))\n"
      ],
      "metadata": {
        "id": "M1-Krmf51X5f"
      },
      "execution_count": 3,
      "outputs": []
    },
    {
      "cell_type": "code",
      "source": [],
      "metadata": {
        "id": "Xwzum2Xk3oo7"
      },
      "execution_count": null,
      "outputs": []
    }
  ]
}